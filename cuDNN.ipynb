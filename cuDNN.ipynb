{
  "nbformat": 4,
  "nbformat_minor": 0,
  "metadata": {
    "colab": {
      "name": "cuDNN.ipynb",
      "version": "0.3.2",
      "provenance": [],
      "collapsed_sections": []
    },
    "kernelspec": {
      "name": "python3",
      "display_name": "Python 3"
    },
    "accelerator": "GPU"
  },
  "cells": [
    {
      "metadata": {
        "id": "zoB6nDfd_HX5",
        "colab_type": "code",
        "outputId": "0bfd8556-7097-4aba-b2b5-edb9cac75b46",
        "colab": {
          "base_uri": "https://localhost:8080/",
          "height": 102
        }
      },
      "cell_type": "code",
      "source": [
        "!git clone https://github.com/facebook/C3D.git"
      ],
      "execution_count": 0,
      "outputs": [
        {
          "output_type": "stream",
          "text": [
            "Cloning into 'C3D'...\n",
            "remote: Enumerating objects: 1729, done.\u001b[K\n",
            "remote: Total 1729 (delta 0), reused 0 (delta 0), pack-reused 1729\u001b[K\n",
            "Receiving objects: 100% (1729/1729), 28.62 MiB | 20.87 MiB/s, done.\n",
            "Resolving deltas: 100% (593/593), done.\n"
          ],
          "name": "stdout"
        }
      ]
    },
    {
      "metadata": {
        "id": "eKWZuUn2jUZv",
        "colab_type": "code",
        "outputId": "96211167-07b4-43a0-ed8a-5671780cf908",
        "colab": {
          "base_uri": "https://localhost:8080/",
          "height": 34
        }
      },
      "cell_type": "code",
      "source": [
        "%cd C3D/C3D-v1.0/"
      ],
      "execution_count": 0,
      "outputs": [
        {
          "output_type": "stream",
          "text": [
            "/content/C3D/C3D-v1.0\n"
          ],
          "name": "stdout"
        }
      ]
    },
    {
      "metadata": {
        "id": "hvYs62fplssO",
        "colab_type": "code",
        "colab": {}
      },
      "cell_type": "code",
      "source": [
        "!cp Makefile.config.example Makefile.config"
      ],
      "execution_count": 0,
      "outputs": []
    },
    {
      "metadata": {
        "id": "XxBad835mVV9",
        "colab_type": "code",
        "colab": {}
      },
      "cell_type": "code",
      "source": [
        "!git clone https://github.com/dolongbien/cuda.git\n",
        "# Google colab has CUDA pre-installed --> ignore this script"
      ],
      "execution_count": 0,
      "outputs": []
    },
    {
      "metadata": {
        "id": "P6t0DejZ9lBn",
        "colab_type": "code",
        "outputId": "66422a9f-8648-46a7-852b-480761d7a8a2",
        "colab": {
          "base_uri": "https://localhost:8080/",
          "height": 1091
        }
      },
      "cell_type": "code",
      "source": [
        "!bash cuda/cuda92_setup.sh"
      ],
      "execution_count": 0,
      "outputs": [
        {
          "output_type": "stream",
          "text": [
            "--2019-01-06 02:23:13--  https://developer.nvidia.com/compute/cuda/9.2/Prod2/local_installers/cuda-repo-ubuntu1604-9-2-local_9.2.148-1_amd64\n",
            "Resolving developer.nvidia.com (developer.nvidia.com)... 192.229.162.216\n",
            "Connecting to developer.nvidia.com (developer.nvidia.com)|192.229.162.216|:443... connected.\n",
            "HTTP request sent, awaiting response... 302 Found\n",
            "Location: https://developer.download.nvidia.com/compute/cuda/9.2/secure/Prod2/local_installers/cuda-repo-ubuntu1604-9-2-local_9.2.148-1_amd64.deb?HBw8wbvXxINTSTnsovqKy72gORQcK-NLxjb8JLBXaZwsAsxOvQMHVXet2t7tyd2KYDGjJ71NFAG2sVf5Hma-sQ-hXPKNA-EYHhkksbsXfvFf3SgraflwEhXqPJFAd6DAVk-rOHvewI5djjHei2juZbFfGanQBMiNW78uNjtLahAs7-01GoFuj5iFdvGBHK78mBizzyNkixXvbSWo6Tddag [following]\n",
            "--2019-01-06 02:23:13--  https://developer.download.nvidia.com/compute/cuda/9.2/secure/Prod2/local_installers/cuda-repo-ubuntu1604-9-2-local_9.2.148-1_amd64.deb?HBw8wbvXxINTSTnsovqKy72gORQcK-NLxjb8JLBXaZwsAsxOvQMHVXet2t7tyd2KYDGjJ71NFAG2sVf5Hma-sQ-hXPKNA-EYHhkksbsXfvFf3SgraflwEhXqPJFAd6DAVk-rOHvewI5djjHei2juZbFfGanQBMiNW78uNjtLahAs7-01GoFuj5iFdvGBHK78mBizzyNkixXvbSWo6Tddag\n",
            "Resolving developer.download.nvidia.com (developer.download.nvidia.com)... 192.229.211.70, 2606:2800:21f:3aa:dcf:37b:1ed6:1fb\n",
            "Connecting to developer.download.nvidia.com (developer.download.nvidia.com)|192.229.211.70|:443... connected.\n",
            "HTTP request sent, awaiting response... 200 OK\n",
            "Length: 1267151038 (1.2G) [application/x-deb]\n",
            "Saving to: ‘cuda-repo-ubuntu1604-9-2-local_9.2.148-1_amd64’\n",
            "\n",
            "cuda-repo-ubuntu160 100%[===================>]   1.18G   134MB/s    in 9.8s    \n",
            "\n",
            "2019-01-06 02:23:23 (124 MB/s) - ‘cuda-repo-ubuntu1604-9-2-local_9.2.148-1_amd64’ saved [1267151038/1267151038]\n",
            "\n",
            "\u001b[1;33m\n",
            "WEBGET finished..\n",
            "\u001b[0m\n",
            "Selecting previously unselected package cuda-repo-ubuntu1604-9-2-local.\n",
            "(Reading database ... 110845 files and directories currently installed.)\n",
            "Preparing to unpack cuda-repo-ubuntu1604-9-2-local_9.2.148-1_amd64 ...\n",
            "Unpacking cuda-repo-ubuntu1604-9-2-local (9.2.148-1) ...\n",
            "Setting up cuda-repo-ubuntu1604-9-2-local (9.2.148-1) ...\n",
            "\u001b[1;33m\n",
            "DPKG finished..\n",
            "\u001b[0m\n",
            "OK\n",
            "\u001b[1;33m\n",
            "APT added key..\n",
            "\u001b[0m\n",
            "Get:1 file:/var/cuda-repo-9-2-local  InRelease\n",
            "Ign:1 file:/var/cuda-repo-9-2-local  InRelease\n",
            "Get:2 file:/var/cuda-repo-9-2-local  Release [574 B]\n",
            "Get:2 file:/var/cuda-repo-9-2-local  Release [574 B]\n",
            "Get:3 file:/var/cuda-repo-9-2-local  Release.gpg [819 B]\n",
            "Get:3 file:/var/cuda-repo-9-2-local  Release.gpg [819 B]\n",
            "Ign:4 https://developer.download.nvidia.com/compute/cuda/repos/ubuntu1710/x86_64  InRelease\n",
            "Hit:5 http://ppa.launchpad.net/graphics-drivers/ppa/ubuntu bionic InRelease\n",
            "Ign:6 https://developer.download.nvidia.com/compute/machine-learning/repos/ubuntu1604/x86_64  InRelease\n",
            "Hit:7 https://developer.download.nvidia.com/compute/cuda/repos/ubuntu1710/x86_64  Release\n",
            "Hit:8 https://developer.download.nvidia.com/compute/machine-learning/repos/ubuntu1604/x86_64  Release\n",
            "Get:9 file:/var/cuda-repo-9-2-local  Packages [18.7 kB]\n",
            "Get:10 http://security.ubuntu.com/ubuntu bionic-security InRelease [83.2 kB]\n",
            "Hit:13 http://archive.ubuntu.com/ubuntu bionic InRelease\n",
            "Get:14 http://archive.ubuntu.com/ubuntu bionic-updates InRelease [88.7 kB]\n",
            "Get:15 http://archive.ubuntu.com/ubuntu bionic-backports InRelease [74.6 kB]\n",
            "Fetched 247 kB in 2s (117 kB/s)\n",
            "Reading package lists... Done\n",
            "\u001b[1;33m\n",
            "APT update finished..\n",
            "\u001b[0m\n",
            "Reading package lists... Done\n",
            "Building dependency tree       \n",
            "Reading state information... Done\n",
            "cuda is already the newest version (9.2.148-1).\n",
            "0 upgraded, 0 newly installed, 0 to remove and 8 not upgraded.\n",
            "\u001b[1;33m\n",
            "APT finished installing cuda..\n",
            "The CUDA version is: \n",
            "CUDA Version 9.2.148\n",
            "\u001b[0m\n"
          ],
          "name": "stdout"
        }
      ]
    },
    {
      "metadata": {
        "id": "4TS4HiramEpE",
        "colab_type": "code",
        "outputId": "9bb5a645-7fff-4ee3-a68b-597dbb983478",
        "colab": {
          "base_uri": "https://localhost:8080/",
          "height": 391
        }
      },
      "cell_type": "code",
      "source": [
        "!which nvcc\n",
        "!nvcc --version\n",
        "!nvidia-smi"
      ],
      "execution_count": 0,
      "outputs": [
        {
          "output_type": "stream",
          "text": [
            "/usr/local/cuda/bin/nvcc\n",
            "nvcc: NVIDIA (R) Cuda compiler driver\n",
            "Copyright (c) 2005-2018 NVIDIA Corporation\n",
            "Built on Tue_Jun_12_23:07:04_CDT_2018\n",
            "Cuda compilation tools, release 9.2, V9.2.148\n",
            "Sun Jan  6 03:05:49 2019       \n",
            "+-----------------------------------------------------------------------------+\n",
            "| NVIDIA-SMI 396.44                 Driver Version: 396.44                    |\n",
            "|-------------------------------+----------------------+----------------------+\n",
            "| GPU  Name        Persistence-M| Bus-Id        Disp.A | Volatile Uncorr. ECC |\n",
            "| Fan  Temp  Perf  Pwr:Usage/Cap|         Memory-Usage | GPU-Util  Compute M. |\n",
            "|===============================+======================+======================|\n",
            "|   0  Tesla K80           Off  | 00000000:00:04.0 Off |                    0 |\n",
            "| N/A   35C    P8    30W / 149W |      0MiB / 11441MiB |      0%      Default |\n",
            "+-------------------------------+----------------------+----------------------+\n",
            "                                                                               \n",
            "+-----------------------------------------------------------------------------+\n",
            "| Processes:                                                       GPU Memory |\n",
            "|  GPU       PID   Type   Process name                             Usage      |\n",
            "|=============================================================================|\n",
            "|  No running processes found                                                 |\n",
            "+-----------------------------------------------------------------------------+\n"
          ],
          "name": "stdout"
        }
      ]
    },
    {
      "metadata": {
        "id": "FO17Xe65vkVP",
        "colab_type": "code",
        "outputId": "8d69fea1-2603-43b2-ac2b-72af8bbce174",
        "colab": {
          "base_uri": "https://localhost:8080/",
          "height": 462
        }
      },
      "cell_type": "code",
      "source": [
        "!pip install mxnet-cu92"
      ],
      "execution_count": 0,
      "outputs": [
        {
          "output_type": "stream",
          "text": [
            "Collecting mxnet-cu92\n",
            "\u001b[?25l  Downloading https://files.pythonhosted.org/packages/3b/18/b4d7a80ee371bc18ac08e1714402a281af806e09aba108a10f6590720fff/mxnet_cu92-1.3.1-py2.py3-none-manylinux1_x86_64.whl (412.1MB)\n",
            "\u001b[K    100% |████████████████████████████████| 412.1MB 44kB/s \n",
            "tcmalloc: large alloc 1073750016 bytes == 0x5a978000 @  0x7f43f048a2a4 0x591a07 0x5b5d56 0x502e9a 0x506859 0x502209 0x502f3d 0x506859 0x504c28 0x502540 0x502f3d 0x506859 0x504c28 0x502540 0x502f3d 0x506859 0x504c28 0x502540 0x502f3d 0x507641 0x502209 0x502f3d 0x506859 0x504c28 0x502540 0x502f3d 0x507641 0x504c28 0x502540 0x502f3d 0x507641\n",
            "\u001b[?25hCollecting graphviz<0.9.0,>=0.8.1 (from mxnet-cu92)\n",
            "  Downloading https://files.pythonhosted.org/packages/53/39/4ab213673844e0c004bed8a0781a0721a3f6bb23eb8854ee75c236428892/graphviz-0.8.4-py2.py3-none-any.whl\n",
            "Collecting requests>=2.20.0 (from mxnet-cu92)\n",
            "\u001b[?25l  Downloading https://files.pythonhosted.org/packages/7d/e3/20f3d364d6c8e5d2353c72a67778eb189176f08e873c9900e10c0287b84b/requests-2.21.0-py2.py3-none-any.whl (57kB)\n",
            "\u001b[K    100% |████████████████████████████████| 61kB 20.2MB/s \n",
            "\u001b[?25hRequirement already satisfied: numpy<1.15.0,>=1.8.2 in /usr/local/lib/python3.6/dist-packages (from mxnet-cu92) (1.14.6)\n",
            "Requirement already satisfied: chardet<3.1.0,>=3.0.2 in /usr/local/lib/python3.6/dist-packages (from requests>=2.20.0->mxnet-cu92) (3.0.4)\n",
            "Requirement already satisfied: certifi>=2017.4.17 in /usr/local/lib/python3.6/dist-packages (from requests>=2.20.0->mxnet-cu92) (2018.11.29)\n",
            "Requirement already satisfied: idna<2.9,>=2.5 in /usr/local/lib/python3.6/dist-packages (from requests>=2.20.0->mxnet-cu92) (2.6)\n",
            "Requirement already satisfied: urllib3<1.25,>=1.21.1 in /usr/local/lib/python3.6/dist-packages (from requests>=2.20.0->mxnet-cu92) (1.22)\n",
            "\u001b[31mspacy 2.0.18 has requirement numpy>=1.15.0, but you'll have numpy 1.14.6 which is incompatible.\u001b[0m\n",
            "\u001b[31mgoogle-colab 0.0.1a1 has requirement requests~=2.18.0, but you'll have requests 2.21.0 which is incompatible.\u001b[0m\n",
            "\u001b[31mcufflinks 0.14.6 has requirement plotly>=3.0.0, but you'll have plotly 1.12.12 which is incompatible.\u001b[0m\n",
            "Installing collected packages: graphviz, requests, mxnet-cu92\n",
            "  Found existing installation: graphviz 0.10.1\n",
            "    Uninstalling graphviz-0.10.1:\n",
            "      Successfully uninstalled graphviz-0.10.1\n",
            "  Found existing installation: requests 2.18.4\n",
            "    Uninstalling requests-2.18.4:\n",
            "      Successfully uninstalled requests-2.18.4\n",
            "Successfully installed graphviz-0.8.4 mxnet-cu92-1.3.1 requests-2.21.0\n"
          ],
          "name": "stdout"
        }
      ]
    },
    {
      "metadata": {
        "id": "CR1-LY4Iwv2w",
        "colab_type": "code",
        "colab": {}
      },
      "cell_type": "code",
      "source": [
        "import tensorflow as tf\n",
        "tf.test.gpu_device_name()\n",
        "from tensorflow.python.client import device_lib\n",
        "device_lib.list_local_devices()"
      ],
      "execution_count": 0,
      "outputs": []
    },
    {
      "metadata": {
        "id": "IOimAuPxFre8",
        "colab_type": "text"
      },
      "cell_type": "markdown",
      "source": [
        "Install cuDNN (using deb pacakge/or can try using .tar file)\n",
        "(download 3 deb file)"
      ]
    },
    {
      "metadata": {
        "id": "RjqZbP8M5xZ5",
        "colab_type": "code",
        "outputId": "0fa2e4e3-fda0-4e8a-8ed3-4c2c3d58b9b3",
        "colab": {
          "base_uri": "https://localhost:8080/",
          "height": 309
        }
      },
      "cell_type": "code",
      "source": [
        "!wget --user=dolongxb@gmail.com --ask-password -O libcudnn7_7.4.2.24-1+cuda9.2_amd64.deb  https://developer.download.nvidia.com/compute/machine-learning/cudnn/secure/v7.4.2/prod/9.2_20181213/Ubuntu16_04-x64/libcudnn7_7.4.2.24-1%2Bcuda9.2_amd64.deb?11SYDbyT4cgtZ4njjp5-lLcbOR1Bn3XLqXdwcwRYmsTgyc5djhJoneBpG0uTeF-Ujf5eP0mebxjXJe0POaBpKX6mPCywESl4HxkYbMgKskdlR18zkDDJsNHqtjg2PgODAktC5OCIjclt4BlEpvPUfkcqUaDjwU60F7Sf8igdDM2dU_b94OXTeo3EEPI1Jngy3FV_YUY-AoYhyDipfDhXf-tzWyswGSanlkz2izeN5B2dpWCr_IU"
      ],
      "execution_count": 0,
      "outputs": [
        {
          "output_type": "stream",
          "text": [
            "Password for user ‘dolongxb@gmail.com’: \n",
            "--2019-01-06 03:06:51--  https://developer.download.nvidia.com/compute/machine-learning/cudnn/secure/v7.4.2/prod/9.2_20181213/Ubuntu16_04-x64/libcudnn7_7.4.2.24-1%2Bcuda9.2_amd64.deb?11SYDbyT4cgtZ4njjp5-lLcbOR1Bn3XLqXdwcwRYmsTgyc5djhJoneBpG0uTeF-Ujf5eP0mebxjXJe0POaBpKX6mPCywESl4HxkYbMgKskdlR18zkDDJsNHqtjg2PgODAktC5OCIjclt4BlEpvPUfkcqUaDjwU60F7Sf8igdDM2dU_b94OXTeo3EEPI1Jngy3FV_YUY-AoYhyDipfDhXf-tzWyswGSanlkz2izeN5B2dpWCr_IU\n",
            "Resolving developer.download.nvidia.com (developer.download.nvidia.com)... 192.229.211.70, 2606:2800:21f:3aa:dcf:37b:1ed6:1fb\n",
            "Connecting to developer.download.nvidia.com (developer.download.nvidia.com)|192.229.211.70|:443... connected.\n",
            "HTTP request sent, awaiting response... 301 Moved Permanently\n",
            "Location: http://developer.download.nvidia.com/403.html [following]\n",
            "--2019-01-06 03:06:51--  http://developer.download.nvidia.com/403.html\n",
            "Connecting to developer.download.nvidia.com (developer.download.nvidia.com)|192.229.211.70|:80... connected.\n",
            "HTTP request sent, awaiting response... 200 OK\n",
            "Length: 252 [text/html]\n",
            "Saving to: ‘libcudnn7_7.4.2.24-1+cuda9.2_amd64.deb’\n",
            "\n",
            "libcudnn7_7.4.2.24- 100%[===================>]     252  --.-KB/s    in 0s      \n",
            "\n",
            "2019-01-06 03:06:51 (26.1 MB/s) - ‘libcudnn7_7.4.2.24-1+cuda9.2_amd64.deb’ saved [252/252]\n",
            "\n"
          ],
          "name": "stdout"
        }
      ]
    },
    {
      "metadata": {
        "id": "aiUZKIqFGEyu",
        "colab_type": "code",
        "outputId": "68c22e1c-7bff-4570-bb9f-ac7547da15c7",
        "colab": {
          "base_uri": "https://localhost:8080/",
          "height": 241
        }
      },
      "cell_type": "code",
      "source": [
        "!wget --user=dolongxb@gmail.com --ask-password -O libcudnn7-dev_7.4.2.24-1+2cuda9.2_amd64.deb  https://developer.download.nvidia.com/compute/machine-learning/cudnn/secure/v7.4.2/prod/9.2_20181213/Ubuntu16_04-x64/libcudnn7-dev_7.4.2.24-1%2Bcuda9.2_amd64.deb?OEtDbo7SXyJ0fJH8aq3Y7P_FeP4dqjNmXggCtkEj3r4vXch_5tv_ToVlEZRwD-f1ozhC6pYzusKWMXuJqixVFujpVXnWgXiUfg5j-NhbF3x5ZNkVWIa1ThtGP0pyuqt4GdBxq5TUeIaXYGoonnXGwEdPhmgMGOdVfmcWOIIDm51ipnTvCpqRvF4Qz6gTTH_s_dtuJL9ay5QtuFaKw44cxw1MtrhHUm2WDRUkGf3ebM7BKrtEOZO3g8w2"
      ],
      "execution_count": 0,
      "outputs": [
        {
          "output_type": "stream",
          "text": [
            "Password for user ‘dolongxb@gmail.com’: \n",
            "--2019-01-06 03:09:26--  https://developer.download.nvidia.com/compute/machine-learning/cudnn/secure/v7.4.2/prod/9.2_20181213/Ubuntu16_04-x64/libcudnn7-dev_7.4.2.24-1%2Bcuda9.2_amd64.deb?OEtDbo7SXyJ0fJH8aq3Y7P_FeP4dqjNmXggCtkEj3r4vXch_5tv_ToVlEZRwD-f1ozhC6pYzusKWMXuJqixVFujpVXnWgXiUfg5j-NhbF3x5ZNkVWIa1ThtGP0pyuqt4GdBxq5TUeIaXYGoonnXGwEdPhmgMGOdVfmcWOIIDm51ipnTvCpqRvF4Qz6gTTH_s_dtuJL9ay5QtuFaKw44cxw1MtrhHUm2WDRUkGf3ebM7BKrtEOZO3g8w2\n",
            "Resolving developer.download.nvidia.com (developer.download.nvidia.com)... 192.229.211.70, 2606:2800:21f:3aa:dcf:37b:1ed6:1fb\n",
            "Connecting to developer.download.nvidia.com (developer.download.nvidia.com)|192.229.211.70|:443... connected.\n",
            "HTTP request sent, awaiting response... 200 OK\n",
            "Length: 118551274 (113M) [application/x-deb]\n",
            "Saving to: ‘libcudnn7-dev_7.4.2.24-1+2cuda9.2_amd64.deb’\n",
            "\n",
            "libcudnn7-dev_7.4.2 100%[===================>] 113.06M  3.31MB/s    in 34s     \n",
            "\n",
            "2019-01-06 03:10:01 (3.30 MB/s) - ‘libcudnn7-dev_7.4.2.24-1+2cuda9.2_amd64.deb’ saved [118551274/118551274]\n",
            "\n"
          ],
          "name": "stdout"
        }
      ]
    },
    {
      "metadata": {
        "id": "YfEItOzQGWjd",
        "colab_type": "code",
        "outputId": "f685b478-e723-4abe-e860-87d96d09036a",
        "colab": {
          "base_uri": "https://localhost:8080/",
          "height": 241
        }
      },
      "cell_type": "code",
      "source": [
        "!wget --user=dolongxb@gmail.com --ask-password -O libcudnn7-doc_7.4.2.24-1+cuda9.2_amd64.deb https://developer.download.nvidia.com/compute/machine-learning/cudnn/secure/v7.4.2/prod/9.2_20181213/Ubuntu16_04-x64/libcudnn7-doc_7.4.2.24-1%2Bcuda9.2_amd64.deb?CL67kHTOHlrL4l-ZOzt4qSYJayeTjNO6y33_Ova-TFxVw6jp0FtDiiztG3KQNP_EXQBowaN5FgljPvNCJlU7TtxHqP53qxh8qZ10Gv5ugTBxKc-XVs1CFO5srS89-JcIPYx5fpWgEpaw_FcwPma6_BUmQEhsaaRVVg7eVGw6okL4spSt1VHW7I6swfI4XHB0MllIT5Cj2QwAaeXENInr9haHlrXPG2mcIN7zEHk32u6L0FYC5UvF7Jm3"
      ],
      "execution_count": 0,
      "outputs": [
        {
          "output_type": "stream",
          "text": [
            "Password for user ‘dolongxb@gmail.com’: \n",
            "--2019-01-06 03:10:37--  https://developer.download.nvidia.com/compute/machine-learning/cudnn/secure/v7.4.2/prod/9.2_20181213/Ubuntu16_04-x64/libcudnn7-doc_7.4.2.24-1%2Bcuda9.2_amd64.deb?CL67kHTOHlrL4l-ZOzt4qSYJayeTjNO6y33_Ova-TFxVw6jp0FtDiiztG3KQNP_EXQBowaN5FgljPvNCJlU7TtxHqP53qxh8qZ10Gv5ugTBxKc-XVs1CFO5srS89-JcIPYx5fpWgEpaw_FcwPma6_BUmQEhsaaRVVg7eVGw6okL4spSt1VHW7I6swfI4XHB0MllIT5Cj2QwAaeXENInr9haHlrXPG2mcIN7zEHk32u6L0FYC5UvF7Jm3\n",
            "Resolving developer.download.nvidia.com (developer.download.nvidia.com)... 192.229.211.70, 2606:2800:21f:3aa:dcf:37b:1ed6:1fb\n",
            "Connecting to developer.download.nvidia.com (developer.download.nvidia.com)|192.229.211.70|:443... connected.\n",
            "HTTP request sent, awaiting response... 200 OK\n",
            "Length: 5018838 (4.8M) [application/x-deb]\n",
            "Saving to: ‘libcudnn7-doc_7.4.2.24-1+cuda9.2_amd64.deb’\n",
            "\n",
            "libcudnn7-doc_7.4.2 100%[===================>]   4.79M  3.31MB/s    in 1.4s    \n",
            "\n",
            "2019-01-06 03:10:38 (3.31 MB/s) - ‘libcudnn7-doc_7.4.2.24-1+cuda9.2_amd64.deb’ saved [5018838/5018838]\n",
            "\n"
          ],
          "name": "stdout"
        }
      ]
    },
    {
      "metadata": {
        "id": "2T_QzDp5HBFL",
        "colab_type": "text"
      },
      "cell_type": "markdown",
      "source": [
        "Installing from a Debian File (rather verbose) ---> using .TAR to install instead"
      ]
    },
    {
      "metadata": {
        "id": "u4Wvief3MIcO",
        "colab_type": "code",
        "colab": {
          "base_uri": "https://localhost:8080/",
          "height": 374
        },
        "outputId": "af484d24-5272-4e63-8e1a-bf0c65983b64"
      },
      "cell_type": "code",
      "source": [
        "!sudo dpkg -i libcudnn7_7.4.2.24-1+cuda9.2_amd64.deb\n",
        "!sudo dpkg -i libcudnn7-dev_7.4.2.24-1+2cuda9.2_amd64.deb\n",
        "!sudo dpkg -i libcudnn7-doc_7.4.2.24-1+cuda9.2_amd64.deb"
      ],
      "execution_count": 49,
      "outputs": [
        {
          "output_type": "stream",
          "text": [
            "\u001b[1mdpkg:\u001b[0m dependency problems prevent configuration of libcudnn7-dev:\n",
            " libcudnn7-dev depends on libcudnn7 (= 7.4.2.24-1+cuda9.2); however:\n",
            "  Version of libcudnn7 on system is 7.4.1.5-1+cuda9.2.\n",
            "\n",
            "\u001b[1mdpkg:\u001b[0m error processing package libcudnn7-dev (--install):\n",
            " dependency problems - leaving unconfigured\n",
            "Errors were encountered while processing:\n",
            " libcudnn7-dev\n",
            "Selecting previously unselected package libcudnn7-doc.\n",
            "(Reading database ... 110924 files and directories currently installed.)\n",
            "Preparing to unpack libcudnn7-doc_7.4.2.24-1+cuda9.2_amd64.deb ...\n",
            "Unpacking libcudnn7-doc (7.4.2.24-1+cuda9.2) ...\n",
            "\u001b[1mdpkg:\u001b[0m dependency problems prevent configuration of libcudnn7-doc:\n",
            " libcudnn7-doc depends on libcudnn7-dev | libcudnn7-dev-; however:\n",
            "  Package libcudnn7-dev is not configured yet.\n",
            "  Package libcudnn7-dev- is not installed.\n",
            "\n",
            "\u001b[1mdpkg:\u001b[0m error processing package libcudnn7-doc (--install):\n",
            " dependency problems - leaving unconfigured\n",
            "Errors were encountered while processing:\n",
            " libcudnn7-doc\n"
          ],
          "name": "stdout"
        }
      ]
    },
    {
      "metadata": {
        "id": "2mI3B7fjHwys",
        "colab_type": "code",
        "outputId": "72459305-9ba2-410b-881c-51386ba3d9b8",
        "colab": {
          "base_uri": "https://localhost:8080/",
          "height": 241
        }
      },
      "cell_type": "code",
      "source": [
        "# test using TAR\n",
        "# https://docs.nvidia.com/deeplearning/sdk/cudnn-install/index.html\n",
        "!wget --user=dolongxb@gmail.com --ask-password -O cudnn-9.2-linux-x64-v7.4.2.24.tgz https://developer.download.nvidia.com/compute/machine-learning/cudnn/secure/v7.4.2/prod/9.2_20181213/cudnn-9.2-linux-x64-v7.4.2.24.tgz?92BCbE4EkvdOY_Tic_idBIOmEj6wRLgVE8R5dDc8USbMkiRPcPsHGClZb-QOlRDznYzm9KaRkrR0I6NOfPifInYrqe7nlpTVIY87ZzZPqRCrPYaXlmhykRN-2VwFrtMJkoq9le7xv8KcY4eeCldjGnFfK9Sm7QZmrDnScb20OJgdjOcUEapsdbaNaKwjHMPpOCWgFEI_Yp4mqSQRrbbX"
      ],
      "execution_count": 0,
      "outputs": [
        {
          "output_type": "stream",
          "text": [
            "Password for user ‘dolongxb@gmail.com’: \n",
            "--2019-01-06 02:16:04--  https://developer.download.nvidia.com/compute/machine-learning/cudnn/secure/v7.4.2/prod/9.2_20181213/cudnn-9.2-linux-x64-v7.4.2.24.tgz?92BCbE4EkvdOY_Tic_idBIOmEj6wRLgVE8R5dDc8USbMkiRPcPsHGClZb-QOlRDznYzm9KaRkrR0I6NOfPifInYrqe7nlpTVIY87ZzZPqRCrPYaXlmhykRN-2VwFrtMJkoq9le7xv8KcY4eeCldjGnFfK9Sm7QZmrDnScb20OJgdjOcUEapsdbaNaKwjHMPpOCWgFEI_Yp4mqSQRrbbX\n",
            "Resolving developer.download.nvidia.com (developer.download.nvidia.com)... 192.229.211.70, 2606:2800:21f:3aa:dcf:37b:1ed6:1fb\n",
            "Connecting to developer.download.nvidia.com (developer.download.nvidia.com)|192.229.211.70|:443... connected.\n",
            "HTTP request sent, awaiting response... 200 OK\n",
            "Length: 371031427 (354M) [application/x-compressed]\n",
            "Saving to: ‘cudnn-9.2-linux-x64-v7.4.2.24.tgz’\n",
            "\n",
            "cudnn-9.2-linux-x64 100%[===================>] 353.84M   129MB/s    in 2.7s    \n",
            "\n",
            "2019-01-06 02:16:06 (129 MB/s) - ‘cudnn-9.2-linux-x64-v7.4.2.24.tgz’ saved [371031427/371031427]\n",
            "\n"
          ],
          "name": "stdout"
        }
      ]
    },
    {
      "metadata": {
        "id": "_QQjDB-JJqdy",
        "colab_type": "code",
        "outputId": "6c80fa4b-8e8b-4d7b-e638-b44492a121be",
        "colab": {
          "base_uri": "https://localhost:8080/",
          "height": 122
        }
      },
      "cell_type": "code",
      "source": [
        "from google.colab import drive\n",
        "drive.mount('/content/gdrive')"
      ],
      "execution_count": 0,
      "outputs": [
        {
          "output_type": "stream",
          "text": [
            "Go to this URL in a browser: https://accounts.google.com/o/oauth2/auth?client_id=947318989803-6bn6qk8qdgf4n4g3pfee6491hc0brc4i.apps.googleusercontent.com&redirect_uri=urn%3Aietf%3Awg%3Aoauth%3A2.0%3Aoob&scope=email%20https%3A%2F%2Fwww.googleapis.com%2Fauth%2Fdocs.test%20https%3A%2F%2Fwww.googleapis.com%2Fauth%2Fdrive%20https%3A%2F%2Fwww.googleapis.com%2Fauth%2Fdrive.photos.readonly%20https%3A%2F%2Fwww.googleapis.com%2Fauth%2Fpeopleapi.readonly&response_type=code\n",
            "\n",
            "Enter your authorization code:\n",
            "··········\n",
            "Mounted at /content/gdrive\n"
          ],
          "name": "stdout"
        }
      ]
    },
    {
      "metadata": {
        "id": "4OGmkoZCKD6u",
        "colab_type": "code",
        "colab": {}
      },
      "cell_type": "code",
      "source": [
        "%mkdir gdrive/My\\ Drive/CUDA"
      ],
      "execution_count": 0,
      "outputs": []
    },
    {
      "metadata": {
        "id": "wXKsUyBLKNkV",
        "colab_type": "code",
        "colab": {}
      },
      "cell_type": "code",
      "source": [
        "# save to GDrive for storing purpose (avoid wget each time restart machine)\n",
        "!cp cudnn-9.2-linux-x64-v7.4.2.24.tgz gdrive/My\\ Drive/CUDA\n",
        "!cp libcudnn7_7.4.2.24-1+cuda9.2_amd64.deb gdrive/My\\ Drive/CUDA\n",
        "!cp libcudnn7-dev_7.4.2.24-1+2cuda9.2_amd64.deb gdrive/My\\ Drive/CUDA\n",
        "!cp libcudnn7-doc_7.4.2.24-1+cuda9.2_amd64.deb gdrive/My\\ Drive/CUDA"
      ],
      "execution_count": 0,
      "outputs": []
    },
    {
      "metadata": {
        "id": "wiRSUEwvIBn_",
        "colab_type": "code",
        "outputId": "d2988211-92b9-4b9a-a027-06d3e9cd0533",
        "colab": {
          "base_uri": "https://localhost:8080/",
          "height": 119
        }
      },
      "cell_type": "code",
      "source": [
        "!tar -xzvf cudnn-9.2-linux-x64-v7.4.2.24.tgz\n"
      ],
      "execution_count": 0,
      "outputs": [
        {
          "output_type": "stream",
          "text": [
            "cuda/include/cudnn.h\n",
            "cuda/NVIDIA_SLA_cuDNN_Support.txt\n",
            "cuda/lib64/libcudnn.so\n",
            "cuda/lib64/libcudnn.so.7\n",
            "cuda/lib64/libcudnn.so.7.4.2\n",
            "cuda/lib64/libcudnn_static.a\n"
          ],
          "name": "stdout"
        }
      ]
    },
    {
      "metadata": {
        "id": "e4aY__8uIN6O",
        "colab_type": "code",
        "colab": {}
      },
      "cell_type": "code",
      "source": [
        "!sudo cp cuda/include/cudnn.h /usr/local/cuda/include\n",
        "!sudo cp cuda/lib64/libcudnn* /usr/local/cuda/lib64\n",
        "!sudo chmod a+r /usr/local/cuda/include/cudnn.h /usr/local/cuda/lib64/libcudnn*"
      ],
      "execution_count": 0,
      "outputs": []
    },
    {
      "metadata": {
        "id": "i_P9A0EMIWHh",
        "colab_type": "code",
        "outputId": "d5aedb8a-bcd9-47de-90d0-06089b1bc6a7",
        "colab": {
          "base_uri": "https://localhost:8080/",
          "height": 51
        }
      },
      "cell_type": "code",
      "source": [
        "#verify cudnn installation\n",
        "!mkdir Testing\n",
        "!cp -r /usr/src/cudnn_samples_v7/ Testing\n",
        "%cd  Testing/cudnn_samples_v7/mnistCUDNN"
      ],
      "execution_count": 50,
      "outputs": [
        {
          "output_type": "stream",
          "text": [
            "mkdir: cannot create directory ‘Testing’: File exists\n",
            "/content/Testing/cudnn_samples_v7/mnistCUDNN\n"
          ],
          "name": "stdout"
        }
      ]
    },
    {
      "metadata": {
        "id": "y7DTgYYtIpe6",
        "colab_type": "code",
        "outputId": "982d6444-1795-4365-cde4-606f1334ee1d",
        "colab": {
          "base_uri": "https://localhost:8080/",
          "height": 139
        }
      },
      "cell_type": "code",
      "source": [
        "!make clean && make"
      ],
      "execution_count": 51,
      "outputs": [
        {
          "output_type": "stream",
          "text": [
            "rm -rf *o\n",
            "rm -rf mnistCUDNN\n",
            "/usr/local/cuda/bin/nvcc -ccbin g++ -I/usr/local/cuda/include -IFreeImage/include  -m64    -gencode arch=compute_30,code=sm_30 -gencode arch=compute_35,code=sm_35 -gencode arch=compute_50,code=sm_50 -gencode arch=compute_53,code=sm_53 -gencode arch=compute_53,code=compute_53 -o fp16_dev.o -c fp16_dev.cu\n",
            "g++ -I/usr/local/cuda/include -IFreeImage/include   -o fp16_emu.o -c fp16_emu.cpp\n",
            "g++ -I/usr/local/cuda/include -IFreeImage/include   -o mnistCUDNN.o -c mnistCUDNN.cpp\n",
            "/usr/local/cuda/bin/nvcc -ccbin g++   -m64      -gencode arch=compute_30,code=sm_30 -gencode arch=compute_35,code=sm_35 -gencode arch=compute_50,code=sm_50 -gencode arch=compute_53,code=sm_53 -gencode arch=compute_53,code=compute_53 -o mnistCUDNN fp16_dev.o fp16_emu.o mnistCUDNN.o -I/usr/local/cuda/include -IFreeImage/include  -LFreeImage/lib/linux/x86_64 -LFreeImage/lib/linux -lcudart -lcublas -lcudnn -lfreeimage -lstdc++ -lm\n"
          ],
          "name": "stdout"
        }
      ]
    },
    {
      "metadata": {
        "id": "_r7wgZtCIlGO",
        "colab_type": "code",
        "outputId": "5327bc15-7098-48ec-e27c-8dd9294cec20",
        "colab": {
          "base_uri": "https://localhost:8080/",
          "height": 1006
        }
      },
      "cell_type": "code",
      "source": [
        "!./mnistCUDNN"
      ],
      "execution_count": 52,
      "outputs": [
        {
          "output_type": "stream",
          "text": [
            "cudnnGetVersion() : 7402 , CUDNN_VERSION from cudnn.h : 7402 (7.4.2)\n",
            "Host compiler version : GCC 7.3.0\r\n",
            "There are 1 CUDA capable devices on your machine :\n",
            "device 0 : sms 13  Capabilities 3.7, SmClock 823.5 Mhz, MemSize (Mb) 11441, MemClock 2505.0 Mhz, Ecc=1, boardGroupID=0\n",
            "Using device 0\n",
            "\n",
            "Testing single precision\n",
            "Loading image data/one_28x28.pgm\n",
            "Performing forward propagation ...\n",
            "Testing cudnnGetConvolutionForwardAlgorithm ...\n",
            "Fastest algorithm is Algo 2\n",
            "Testing cudnnFindConvolutionForwardAlgorithm ...\n",
            "^^^^ CUDNN_STATUS_SUCCESS for Algo 1: 0.075168 time requiring 100 memory\n",
            "^^^^ CUDNN_STATUS_SUCCESS for Algo 0: 0.076928 time requiring 0 memory\n",
            "^^^^ CUDNN_STATUS_SUCCESS for Algo 2: 0.142656 time requiring 57600 memory\n",
            "^^^^ CUDNN_STATUS_SUCCESS for Algo 4: 0.249120 time requiring 207360 memory\n",
            "^^^^ CUDNN_STATUS_SUCCESS for Algo 5: 0.419168 time requiring 203008 memory\n",
            "Resulting weights from Softmax:\n",
            "0.0000000 0.9999399 0.0000000 0.0000000 0.0000561 0.0000000 0.0000012 0.0000017 0.0000010 0.0000000 \n",
            "Loading image data/three_28x28.pgm\n",
            "Performing forward propagation ...\n",
            "Resulting weights from Softmax:\n",
            "0.0000000 0.0000000 0.0000000 0.9999288 0.0000000 0.0000711 0.0000000 0.0000000 0.0000000 0.0000000 \n",
            "Loading image data/five_28x28.pgm\n",
            "Performing forward propagation ...\n",
            "Resulting weights from Softmax:\n",
            "0.0000000 0.0000008 0.0000000 0.0000002 0.0000000 0.9999820 0.0000154 0.0000000 0.0000012 0.0000006 \n",
            "\n",
            "Result of classification: 1 3 5\n",
            "\n",
            "Test passed!\n",
            "\n",
            "Testing half precision (math in single precision)\n",
            "Loading image data/one_28x28.pgm\n",
            "Performing forward propagation ...\n",
            "Testing cudnnGetConvolutionForwardAlgorithm ...\n",
            "Fastest algorithm is Algo 2\n",
            "Testing cudnnFindConvolutionForwardAlgorithm ...\n",
            "^^^^ CUDNN_STATUS_SUCCESS for Algo 0: 0.076736 time requiring 0 memory\n",
            "^^^^ CUDNN_STATUS_SUCCESS for Algo 1: 0.085152 time requiring 100 memory\n",
            "^^^^ CUDNN_STATUS_SUCCESS for Algo 2: 0.149760 time requiring 28800 memory\n",
            "^^^^ CUDNN_STATUS_SUCCESS for Algo 4: 0.251808 time requiring 207360 memory\n",
            "^^^^ CUDNN_STATUS_SUCCESS for Algo 5: 0.489024 time requiring 203008 memory\n",
            "Resulting weights from Softmax:\n",
            "0.0000001 1.0000000 0.0000001 0.0000000 0.0000563 0.0000001 0.0000012 0.0000017 0.0000010 0.0000001 \n",
            "Loading image data/three_28x28.pgm\n",
            "Performing forward propagation ...\n",
            "Resulting weights from Softmax:\n",
            "0.0000000 0.0000000 0.0000000 1.0000000 0.0000000 0.0000714 0.0000000 0.0000000 0.0000000 0.0000000 \n",
            "Loading image data/five_28x28.pgm\n",
            "Performing forward propagation ...\n",
            "Resulting weights from Softmax:\n",
            "0.0000000 0.0000008 0.0000000 0.0000002 0.0000000 1.0000000 0.0000154 0.0000000 0.0000012 0.0000006 \n",
            "\n",
            "Result of classification: 1 3 5\n",
            "\n",
            "Test passed!\n"
          ],
          "name": "stdout"
        }
      ]
    },
    {
      "metadata": {
        "id": "gFf1bk2dJRvV",
        "colab_type": "code",
        "colab": {}
      },
      "cell_type": "code",
      "source": [
        "# ok :D, test passed!!!\n"
      ],
      "execution_count": 0,
      "outputs": []
    }
  ]
}